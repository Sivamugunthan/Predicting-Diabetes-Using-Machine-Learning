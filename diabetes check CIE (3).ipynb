{
 "cells": [
  {
   "cell_type": "code",
   "execution_count": null,
   "id": "3260442a-52a8-46e9-b9c6-fbf5cbba7a69",
   "metadata": {},
   "outputs": [],
   "source": [
    "#importing the required libraries to build logistic regresion model"
   ]
  },
  {
   "cell_type": "code",
   "execution_count": 93,
   "id": "9ea5ed71-6b43-469b-9c32-68452538ef65",
   "metadata": {},
   "outputs": [],
   "source": [
    "import pandas as pd\n",
    "import numpy as np\n",
    "import statsmodels.api as sm\n",
    "from scipy import stats\n",
    "import matplotlib.pyplot as plt\n",
    "import seaborn as sn\n",
    "%matplotlib inline\n",
    "from sklearn import metrics\n"
   ]
  },
  {
   "cell_type": "code",
   "execution_count": 94,
   "id": "165879d8-e578-478a-93de-b1678511fd3d",
   "metadata": {},
   "outputs": [],
   "source": [
    "#Importing the file"
   ]
  },
  {
   "cell_type": "code",
   "execution_count": 95,
   "id": "2ebc7e45-b09d-4310-bc2b-56331ba59d7b",
   "metadata": {},
   "outputs": [
    {
     "data": {
      "text/html": [
       "<div>\n",
       "<style scoped>\n",
       "    .dataframe tbody tr th:only-of-type {\n",
       "        vertical-align: middle;\n",
       "    }\n",
       "\n",
       "    .dataframe tbody tr th {\n",
       "        vertical-align: top;\n",
       "    }\n",
       "\n",
       "    .dataframe thead th {\n",
       "        text-align: right;\n",
       "    }\n",
       "</style>\n",
       "<table border=\"1\" class=\"dataframe\">\n",
       "  <thead>\n",
       "    <tr style=\"text-align: right;\">\n",
       "      <th></th>\n",
       "      <th>Pregnancies</th>\n",
       "      <th>Glucose</th>\n",
       "      <th>BloodPressure</th>\n",
       "      <th>SkinThickness</th>\n",
       "      <th>Insulin</th>\n",
       "      <th>BMI</th>\n",
       "      <th>DiabetesPedigreeFunction</th>\n",
       "      <th>Age</th>\n",
       "      <th>Outcome</th>\n",
       "    </tr>\n",
       "  </thead>\n",
       "  <tbody>\n",
       "    <tr>\n",
       "      <th>0</th>\n",
       "      <td>6</td>\n",
       "      <td>148</td>\n",
       "      <td>72</td>\n",
       "      <td>35</td>\n",
       "      <td>0</td>\n",
       "      <td>33.6</td>\n",
       "      <td>0.627</td>\n",
       "      <td>50</td>\n",
       "      <td>1</td>\n",
       "    </tr>\n",
       "    <tr>\n",
       "      <th>1</th>\n",
       "      <td>1</td>\n",
       "      <td>85</td>\n",
       "      <td>66</td>\n",
       "      <td>29</td>\n",
       "      <td>0</td>\n",
       "      <td>26.6</td>\n",
       "      <td>0.351</td>\n",
       "      <td>31</td>\n",
       "      <td>0</td>\n",
       "    </tr>\n",
       "    <tr>\n",
       "      <th>2</th>\n",
       "      <td>8</td>\n",
       "      <td>183</td>\n",
       "      <td>64</td>\n",
       "      <td>0</td>\n",
       "      <td>0</td>\n",
       "      <td>23.3</td>\n",
       "      <td>0.672</td>\n",
       "      <td>32</td>\n",
       "      <td>1</td>\n",
       "    </tr>\n",
       "    <tr>\n",
       "      <th>3</th>\n",
       "      <td>1</td>\n",
       "      <td>89</td>\n",
       "      <td>66</td>\n",
       "      <td>23</td>\n",
       "      <td>94</td>\n",
       "      <td>28.1</td>\n",
       "      <td>0.167</td>\n",
       "      <td>21</td>\n",
       "      <td>0</td>\n",
       "    </tr>\n",
       "    <tr>\n",
       "      <th>4</th>\n",
       "      <td>0</td>\n",
       "      <td>137</td>\n",
       "      <td>40</td>\n",
       "      <td>35</td>\n",
       "      <td>168</td>\n",
       "      <td>43.1</td>\n",
       "      <td>2.288</td>\n",
       "      <td>33</td>\n",
       "      <td>1</td>\n",
       "    </tr>\n",
       "  </tbody>\n",
       "</table>\n",
       "</div>"
      ],
      "text/plain": [
       "   Pregnancies  Glucose  BloodPressure  SkinThickness  Insulin   BMI  \\\n",
       "0            6      148             72             35        0  33.6   \n",
       "1            1       85             66             29        0  26.6   \n",
       "2            8      183             64              0        0  23.3   \n",
       "3            1       89             66             23       94  28.1   \n",
       "4            0      137             40             35      168  43.1   \n",
       "\n",
       "   DiabetesPedigreeFunction  Age  Outcome  \n",
       "0                     0.627   50        1  \n",
       "1                     0.351   31        0  \n",
       "2                     0.672   32        1  \n",
       "3                     0.167   21        0  \n",
       "4                     2.288   33        1  "
      ]
     },
     "execution_count": 95,
     "metadata": {},
     "output_type": "execute_result"
    }
   ],
   "source": [
    "d_check= pd.read_excel('/Users/sivamugunthanashok/Desktop/MAJORS/PA/diabetes check.xlsx')\n",
    "d_check.head()"
   ]
  },
  {
   "cell_type": "code",
   "execution_count": 96,
   "id": "5b14df50-023e-49e8-b77e-4e53faf10fd4",
   "metadata": {},
   "outputs": [],
   "source": [
    "#Checking the total rows and columns"
   ]
  },
  {
   "cell_type": "code",
   "execution_count": 97,
   "id": "da7f46d1-638d-4e65-bd2a-5eddd5ee5c8e",
   "metadata": {},
   "outputs": [
    {
     "data": {
      "text/plain": [
       "(768, 9)"
      ]
     },
     "execution_count": 97,
     "metadata": {},
     "output_type": "execute_result"
    }
   ],
   "source": [
    "d_check.shape"
   ]
  },
  {
   "cell_type": "code",
   "execution_count": 98,
   "id": "280bc455-fb99-4d6f-8fed-db0faa1905f3",
   "metadata": {},
   "outputs": [],
   "source": [
    "#General information about the dataset(d_check)"
   ]
  },
  {
   "cell_type": "code",
   "execution_count": 99,
   "id": "26272a3e-b2cc-4a3f-9395-84ef1831d466",
   "metadata": {
    "scrolled": true
   },
   "outputs": [
    {
     "name": "stdout",
     "output_type": "stream",
     "text": [
      "<class 'pandas.core.frame.DataFrame'>\n",
      "RangeIndex: 768 entries, 0 to 767\n",
      "Data columns (total 9 columns):\n",
      " #   Column                    Non-Null Count  Dtype  \n",
      "---  ------                    --------------  -----  \n",
      " 0   Pregnancies               768 non-null    int64  \n",
      " 1   Glucose                   768 non-null    int64  \n",
      " 2   BloodPressure             768 non-null    int64  \n",
      " 3   SkinThickness             768 non-null    int64  \n",
      " 4   Insulin                   768 non-null    int64  \n",
      " 5   BMI                       768 non-null    float64\n",
      " 6   DiabetesPedigreeFunction  768 non-null    float64\n",
      " 7   Age                       768 non-null    int64  \n",
      " 8   Outcome                   768 non-null    int64  \n",
      "dtypes: float64(2), int64(7)\n",
      "memory usage: 54.1 KB\n"
     ]
    }
   ],
   "source": [
    "d_check.info()"
   ]
  },
  {
   "cell_type": "code",
   "execution_count": 100,
   "id": "5324424a-af9d-4aa2-a752-942804fb18a5",
   "metadata": {},
   "outputs": [
    {
     "data": {
      "text/plain": [
       "Index(['Pregnancies', 'Glucose', 'BloodPressure', 'SkinThickness', 'Insulin',\n",
       "       'BMI', 'DiabetesPedigreeFunction', 'Age', 'Outcome'],\n",
       "      dtype='object')"
      ]
     },
     "execution_count": 100,
     "metadata": {},
     "output_type": "execute_result"
    }
   ],
   "source": [
    "d_check.columns"
   ]
  },
  {
   "cell_type": "code",
   "execution_count": 137,
   "id": "3f305682-784e-43fd-b42b-fdf387c41826",
   "metadata": {},
   "outputs": [
    {
     "name": "stdout",
     "output_type": "stream",
     "text": [
      "Correlation Matrix:\n",
      "                          Pregnancies   Glucose  BloodPressure  SkinThickness  \\\n",
      "Pregnancies                  1.000000  0.129459       0.141282      -0.081672   \n",
      "Glucose                      0.129459  1.000000       0.152590       0.057328   \n",
      "BloodPressure                0.141282  0.152590       1.000000       0.207371   \n",
      "SkinThickness               -0.081672  0.057328       0.207371       1.000000   \n",
      "Insulin                     -0.073535  0.331357       0.088933       0.436783   \n",
      "BMI                          0.017683  0.221071       0.281805       0.392573   \n",
      "DiabetesPedigreeFunction    -0.033523  0.137337       0.041265       0.183928   \n",
      "Age                          0.544341  0.263514       0.239528      -0.113970   \n",
      "diabetes                     0.221898  0.466581       0.065068       0.074752   \n",
      "\n",
      "                           Insulin       BMI  DiabetesPedigreeFunction  \\\n",
      "Pregnancies              -0.073535  0.017683                 -0.033523   \n",
      "Glucose                   0.331357  0.221071                  0.137337   \n",
      "BloodPressure             0.088933  0.281805                  0.041265   \n",
      "SkinThickness             0.436783  0.392573                  0.183928   \n",
      "Insulin                   1.000000  0.197859                  0.185071   \n",
      "BMI                       0.197859  1.000000                  0.140647   \n",
      "DiabetesPedigreeFunction  0.185071  0.140647                  1.000000   \n",
      "Age                      -0.042163  0.036242                  0.033561   \n",
      "diabetes                  0.130548  0.292695                  0.173844   \n",
      "\n",
      "                               Age  diabetes  \n",
      "Pregnancies               0.544341  0.221898  \n",
      "Glucose                   0.263514  0.466581  \n",
      "BloodPressure             0.239528  0.065068  \n",
      "SkinThickness            -0.113970  0.074752  \n",
      "Insulin                  -0.042163  0.130548  \n",
      "BMI                       0.036242  0.292695  \n",
      "DiabetesPedigreeFunction  0.033561  0.173844  \n",
      "Age                       1.000000  0.238356  \n",
      "diabetes                  0.238356  1.000000  \n"
     ]
    },
    {
     "data": {
      "image/png": "[encoded data removed]",
      "text/plain": [
       "<Figure size 800x600 with 2 Axes>"
      ]
     },
     "metadata": {},
     "output_type": "display_data"
    }
   ],
   "source": [
    "import pandas as pd\n",
    "import seaborn as sns\n",
    "import matplotlib.pyplot as plt\n",
    "\n",
    "\n",
    "# Display the correlation matrix\n",
    "correlation_matrix = d_check.corr()\n",
    "print(\"Correlation Matrix:\")\n",
    "print(correlation_matrix)\n",
    "\n",
    "# Optional: Plot a heatmap for better visualization\n",
    "plt.figure(figsize=(8, 6))\n",
    "sns.heatmap(correlation_matrix, annot=True, cmap='coolwarm', fmt='.2f', linewidths=0.5)\n",
    "plt.title('Correlation Matrix Heatmap')\n",
    "plt.show()\n"
   ]
  },
  {
   "cell_type": "code",
   "execution_count": 101,
   "id": "df008b19-b7eb-42fd-9fa9-3c21b615d232",
   "metadata": {},
   "outputs": [],
   "source": [
    "#Renaming the column name(outcome) to (diabetes)"
   ]
  },
  {
   "cell_type": "code",
   "execution_count": 102,
   "id": "57e33996-4440-4dad-90ae-0bc9caf8c2fb",
   "metadata": {},
   "outputs": [],
   "source": [
    "d_check = d_check.rename(columns={'Outcome': 'diabetes'})"
   ]
  },
  {
   "cell_type": "code",
   "execution_count": 103,
   "id": "3e0e6f47-204c-4a1f-852b-b6d40ecf6b4c",
   "metadata": {},
   "outputs": [],
   "source": [
    "#To check the count occurrences of each unique value in the 'diabetes' column"
   ]
  },
  {
   "cell_type": "code",
   "execution_count": 104,
   "id": "76bf1de6-25ff-4cbe-87bc-85d1113ce612",
   "metadata": {},
   "outputs": [
    {
     "data": {
      "text/plain": [
       "diabetes\n",
       "0    500\n",
       "1    268\n",
       "Name: count, dtype: int64"
      ]
     },
     "execution_count": 104,
     "metadata": {},
     "output_type": "execute_result"
    }
   ],
   "source": [
    "d_check.diabetes.value_counts()"
   ]
  },
  {
   "cell_type": "code",
   "execution_count": 105,
   "id": "78ca7426-d355-4340-bc74-d2e473afe17b",
   "metadata": {},
   "outputs": [],
   "source": [
    "#Defining explantory variables "
   ]
  },
  {
   "cell_type": "code",
   "execution_count": 106,
   "id": "754a32d8-b5bc-4f85-a8e9-c0257ab639d2",
   "metadata": {},
   "outputs": [
    {
     "data": {
      "text/plain": [
       "['Pregnancies',\n",
       " 'Glucose',\n",
       " 'BloodPressure',\n",
       " 'SkinThickness',\n",
       " 'Insulin',\n",
       " 'BMI',\n",
       " 'DiabetesPedigreeFunction',\n",
       " 'Age']"
      ]
     },
     "execution_count": 106,
     "metadata": {},
     "output_type": "execute_result"
    }
   ],
   "source": [
    "x_features=list(d_check.columns)\n",
    "x_features.remove('diabetes')\n",
    "x_features"
   ]
  },
  {
   "cell_type": "code",
   "execution_count": 107,
   "id": "727596af-759c-471b-be53-d967d0105cdc",
   "metadata": {},
   "outputs": [],
   "source": [
    "#defining explantory(X) and outcome variable(Y),Adding constant to explantory variable(X) get (Bo)"
   ]
  },
  {
   "cell_type": "code",
   "execution_count": 108,
   "id": "224659a0-58d8-4773-b72d-4e01554b2ec7",
   "metadata": {},
   "outputs": [],
   "source": [
    "Y=d_check.diabetes\n",
    "X = sm.add_constant(d_check[x_features])"
   ]
  },
  {
   "cell_type": "code",
   "execution_count": 109,
   "id": "5db288bc-3fc6-4b8d-b7d8-1de26ed738f1",
   "metadata": {},
   "outputs": [],
   "source": [
    "# Initialize the logistic regression model with outcome (Y) and explanatory (X) variables\n",
    "# Fit the logistic regression model to the data\n",
    "# Display a detailed summary of the logistic regression results"
   ]
  },
  {
   "cell_type": "code",
   "execution_count": 110,
   "id": "9e12c847-676d-4a8f-b5a1-61022654553a",
   "metadata": {},
   "outputs": [
    {
     "name": "stdout",
     "output_type": "stream",
     "text": [
      "Optimization terminated successfully.\n",
      "         Current function value: 0.470993\n",
      "         Iterations 6\n"
     ]
    },
    {
     "data": {
      "text/html": [
       "<table class=\"simpletable\">\n",
       "<tr>\n",
       "        <td>Model:</td>              <td>Logit</td>           <td>Method:</td>          <td>MLE</td>   \n",
       "</tr>\n",
       "<tr>\n",
       "  <td>Dependent Variable:</td>     <td>diabetes</td>     <td>Pseudo R-squared:</td>    <td>0.272</td>  \n",
       "</tr>\n",
       "<tr>\n",
       "         <td>Date:</td>        <td>2025-04-11 19:02</td>       <td>AIC:</td>         <td>741.4454</td> \n",
       "</tr>\n",
       "<tr>\n",
       "   <td>No. Observations:</td>         <td>768</td>             <td>BIC:</td>         <td>783.2395</td> \n",
       "</tr>\n",
       "<tr>\n",
       "       <td>Df Model:</td>              <td>8</td>         <td>Log-Likelihood:</td>    <td>-361.72</td> \n",
       "</tr>\n",
       "<tr>\n",
       "     <td>Df Residuals:</td>           <td>759</td>           <td>LL-Null:</td>        <td>-496.74</td> \n",
       "</tr>\n",
       "<tr>\n",
       "      <td>Converged:</td>           <td>1.0000</td>        <td>LLR p-value:</td>    <td>9.6516e-54</td>\n",
       "</tr>\n",
       "<tr>\n",
       "    <td>No. Iterations:</td>        <td>6.0000</td>           <td>Scale:</td>         <td>1.0000</td>  \n",
       "</tr>\n",
       "</table>\n",
       "<table class=\"simpletable\">\n",
       "<tr>\n",
       "              <td></td>              <th>Coef.</th>  <th>Std.Err.</th>     <th>z</th>     <th>P>|z|</th> <th>[0.025</th>  <th>0.975]</th> \n",
       "</tr>\n",
       "<tr>\n",
       "  <th>const</th>                    <td>-8.4047</td>  <td>0.7166</td>  <td>-11.7280</td> <td>0.0000</td> <td>-9.8093</td> <td>-7.0001</td>\n",
       "</tr>\n",
       "<tr>\n",
       "  <th>Pregnancies</th>              <td>0.1232</td>   <td>0.0321</td>   <td>3.8401</td>  <td>0.0001</td> <td>0.0603</td>  <td>0.1861</td> \n",
       "</tr>\n",
       "<tr>\n",
       "  <th>Glucose</th>                  <td>0.0352</td>   <td>0.0037</td>   <td>9.4814</td>  <td>0.0000</td> <td>0.0279</td>  <td>0.0424</td> \n",
       "</tr>\n",
       "<tr>\n",
       "  <th>BloodPressure</th>            <td>-0.0133</td>  <td>0.0052</td>   <td>-2.5404</td> <td>0.0111</td> <td>-0.0236</td> <td>-0.0030</td>\n",
       "</tr>\n",
       "<tr>\n",
       "  <th>SkinThickness</th>            <td>0.0006</td>   <td>0.0069</td>   <td>0.0897</td>  <td>0.9285</td> <td>-0.0129</td> <td>0.0141</td> \n",
       "</tr>\n",
       "<tr>\n",
       "  <th>Insulin</th>                  <td>-0.0012</td>  <td>0.0009</td>   <td>-1.3223</td> <td>0.1861</td> <td>-0.0030</td> <td>0.0006</td> \n",
       "</tr>\n",
       "<tr>\n",
       "  <th>BMI</th>                      <td>0.0897</td>   <td>0.0151</td>   <td>5.9453</td>  <td>0.0000</td> <td>0.0601</td>  <td>0.1193</td> \n",
       "</tr>\n",
       "<tr>\n",
       "  <th>DiabetesPedigreeFunction</th> <td>0.9452</td>   <td>0.2991</td>   <td>3.1596</td>  <td>0.0016</td> <td>0.3589</td>  <td>1.5315</td> \n",
       "</tr>\n",
       "<tr>\n",
       "  <th>Age</th>                      <td>0.0149</td>   <td>0.0093</td>   <td>1.5929</td>  <td>0.1112</td> <td>-0.0034</td> <td>0.0332</td> \n",
       "</tr>\n",
       "</table><br/>\n"
      ],
      "text/latex": [
       "\\begin{table}\n",
       "\\caption{Results: Logit}\n",
       "\\label{}\n",
       "\\begin{center}\n",
       "\\begin{tabular}{llll}\n",
       "\\hline\n",
       "Model:              & Logit            & Method:           & MLE         \\\\\n",
       "Dependent Variable: & diabetes         & Pseudo R-squared: & 0.272       \\\\\n",
       "Date:               & 2025-04-11 19:02 & AIC:              & 741.4454    \\\\\n",
       "No. Observations:   & 768              & BIC:              & 783.2395    \\\\\n",
       "Df Model:           & 8                & Log-Likelihood:   & -361.72     \\\\\n",
       "Df Residuals:       & 759              & LL-Null:          & -496.74     \\\\\n",
       "Converged:          & 1.0000           & LLR p-value:      & 9.6516e-54  \\\\\n",
       "No. Iterations:     & 6.0000           & Scale:            & 1.0000      \\\\\n",
       "\\hline\n",
       "\\end{tabular}\n",
       "\\end{center}\n",
       "\n",
       "\\begin{center}\n",
       "\\begin{tabular}{lrrrrrr}\n",
       "\\hline\n",
       "                         &   Coef. & Std.Err. &        z & P$> |$z$|$ &  [0.025 &  0.975]  \\\\\n",
       "\\hline\n",
       "const                    & -8.4047 &   0.7166 & -11.7280 &      0.0000 & -9.8093 & -7.0001  \\\\\n",
       "Pregnancies              &  0.1232 &   0.0321 &   3.8401 &      0.0001 &  0.0603 &  0.1861  \\\\\n",
       "Glucose                  &  0.0352 &   0.0037 &   9.4814 &      0.0000 &  0.0279 &  0.0424  \\\\\n",
       "BloodPressure            & -0.0133 &   0.0052 &  -2.5404 &      0.0111 & -0.0236 & -0.0030  \\\\\n",
       "SkinThickness            &  0.0006 &   0.0069 &   0.0897 &      0.9285 & -0.0129 &  0.0141  \\\\\n",
       "Insulin                  & -0.0012 &   0.0009 &  -1.3223 &      0.1861 & -0.0030 &  0.0006  \\\\\n",
       "BMI                      &  0.0897 &   0.0151 &   5.9453 &      0.0000 &  0.0601 &  0.1193  \\\\\n",
       "DiabetesPedigreeFunction &  0.9452 &   0.2991 &   3.1596 &      0.0016 &  0.3589 &  1.5315  \\\\\n",
       "Age                      &  0.0149 &   0.0093 &   1.5929 &      0.1112 & -0.0034 &  0.0332  \\\\\n",
       "\\hline\n",
       "\\end{tabular}\n",
       "\\end{center}\n",
       "\\end{table}\n",
       "\\bigskip\n"
      ],
      "text/plain": [
       "<class 'statsmodels.iolib.summary2.Summary'>\n",
       "\"\"\"\n",
       "                             Results: Logit\n",
       "=========================================================================\n",
       "Model:                  Logit              Method:             MLE       \n",
       "Dependent Variable:     diabetes           Pseudo R-squared:   0.272     \n",
       "Date:                   2025-04-11 19:02   AIC:                741.4454  \n",
       "No. Observations:       768                BIC:                783.2395  \n",
       "Df Model:               8                  Log-Likelihood:     -361.72   \n",
       "Df Residuals:           759                LL-Null:            -496.74   \n",
       "Converged:              1.0000             LLR p-value:        9.6516e-54\n",
       "No. Iterations:         6.0000             Scale:              1.0000    \n",
       "-------------------------------------------------------------------------\n",
       "                          Coef.  Std.Err.    z     P>|z|   [0.025  0.975]\n",
       "-------------------------------------------------------------------------\n",
       "const                    -8.4047   0.7166 -11.7280 0.0000 -9.8093 -7.0001\n",
       "Pregnancies               0.1232   0.0321   3.8401 0.0001  0.0603  0.1861\n",
       "Glucose                   0.0352   0.0037   9.4814 0.0000  0.0279  0.0424\n",
       "BloodPressure            -0.0133   0.0052  -2.5404 0.0111 -0.0236 -0.0030\n",
       "SkinThickness             0.0006   0.0069   0.0897 0.9285 -0.0129  0.0141\n",
       "Insulin                  -0.0012   0.0009  -1.3223 0.1861 -0.0030  0.0006\n",
       "BMI                       0.0897   0.0151   5.9453 0.0000  0.0601  0.1193\n",
       "DiabetesPedigreeFunction  0.9452   0.2991   3.1596 0.0016  0.3589  1.5315\n",
       "Age                       0.0149   0.0093   1.5929 0.1112 -0.0034  0.0332\n",
       "=========================================================================\n",
       "\n",
       "\"\"\""
      ]
     },
     "execution_count": 110,
     "metadata": {},
     "output_type": "execute_result"
    }
   ],
   "source": [
    "logit=sm.Logit(Y,X)\n",
    "logit_model=logit.fit()\n",
    "logit_model.summary2()"
   ]
  },
  {
   "cell_type": "code",
   "execution_count": 111,
   "id": "8b29e891-89dc-49c0-b7bb-6e6c7357555c",
   "metadata": {},
   "outputs": [],
   "source": [
    "def get_significant_vars(lm):\n",
    "    # Step 1: Convert p-values into a table (DataFrame)\n",
    "    var_p_vals_df = pd.DataFrame(lm.pvalues)\n",
    "    \n",
    "    # Step 2: Add variable names as a column in the table\n",
    "    var_p_vals_df['vars'] = var_p_vals_df.index\n",
    "\n",
    "    # Step 3: Rename the columns to 'pvals' (for p-values) and 'vars' (for variable names)\n",
    "    var_p_vals_df.columns = ['pvals', 'vars']\n",
    "\n",
    "    # Step 4: Find the variables where p-value <= 0.05 and return their names as a list\n",
    "    return list(var_p_vals_df[var_p_vals_df.pvals <= 0.05]['vars'])\n"
   ]
  },
  {
   "cell_type": "code",
   "execution_count": 112,
   "id": "c0c0e78e-51dc-4682-82d4-185062146c60",
   "metadata": {},
   "outputs": [],
   "source": [
    "#Printing the significant variables"
   ]
  },
  {
   "cell_type": "code",
   "execution_count": 113,
   "id": "b9ca030c-12a4-42e5-97f1-2f2d63d8bd70",
   "metadata": {},
   "outputs": [
    {
     "data": {
      "text/plain": [
       "['const',\n",
       " 'Pregnancies',\n",
       " 'Glucose',\n",
       " 'BloodPressure',\n",
       " 'BMI',\n",
       " 'DiabetesPedigreeFunction']"
      ]
     },
     "execution_count": 113,
     "metadata": {},
     "output_type": "execute_result"
    }
   ],
   "source": [
    "significant_vars=get_significant_vars(logit_model)\n",
    "significant_vars"
   ]
  },
  {
   "cell_type": "code",
   "execution_count": 114,
   "id": "4113d2a0-6d75-4c07-91fe-6f1a21f33119",
   "metadata": {},
   "outputs": [],
   "source": [
    "# Fit a logistic regression model using significant variables and adding constant to the (X) explanatory variable"
   ]
  },
  {
   "cell_type": "code",
   "execution_count": 115,
   "id": "7ff1eb07-1c4c-48d0-ad11-e891113922a2",
   "metadata": {},
   "outputs": [
    {
     "name": "stdout",
     "output_type": "stream",
     "text": [
      "Optimization terminated successfully.\n",
      "         Current function value: 0.474323\n",
      "         Iterations 6\n"
     ]
    }
   ],
   "source": [
    "final_logit=sm.Logit(Y,sm.add_constant(X[significant_vars])).fit()"
   ]
  },
  {
   "cell_type": "code",
   "execution_count": 116,
   "id": "197c6b0e-659f-4769-ba08-9a410de1ed50",
   "metadata": {},
   "outputs": [
    {
     "data": {
      "text/html": [
       "<table class=\"simpletable\">\n",
       "<tr>\n",
       "        <td>Model:</td>              <td>Logit</td>           <td>Method:</td>          <td>MLE</td>   \n",
       "</tr>\n",
       "<tr>\n",
       "  <td>Dependent Variable:</td>     <td>diabetes</td>     <td>Pseudo R-squared:</td>    <td>0.267</td>  \n",
       "</tr>\n",
       "<tr>\n",
       "         <td>Date:</td>        <td>2025-04-11 19:02</td>       <td>AIC:</td>         <td>740.5596</td> \n",
       "</tr>\n",
       "<tr>\n",
       "   <td>No. Observations:</td>         <td>768</td>             <td>BIC:</td>         <td>768.4223</td> \n",
       "</tr>\n",
       "<tr>\n",
       "       <td>Df Model:</td>              <td>5</td>         <td>Log-Likelihood:</td>    <td>-364.28</td> \n",
       "</tr>\n",
       "<tr>\n",
       "     <td>Df Residuals:</td>           <td>762</td>           <td>LL-Null:</td>        <td>-496.74</td> \n",
       "</tr>\n",
       "<tr>\n",
       "      <td>Converged:</td>           <td>1.0000</td>        <td>LLR p-value:</td>    <td>3.4421e-55</td>\n",
       "</tr>\n",
       "<tr>\n",
       "    <td>No. Iterations:</td>        <td>6.0000</td>           <td>Scale:</td>         <td>1.0000</td>  \n",
       "</tr>\n",
       "</table>\n",
       "<table class=\"simpletable\">\n",
       "<tr>\n",
       "              <td></td>              <th>Coef.</th>  <th>Std.Err.</th>     <th>z</th>     <th>P>|z|</th> <th>[0.025</th>  <th>0.975]</th> \n",
       "</tr>\n",
       "<tr>\n",
       "  <th>const</th>                    <td>-7.9550</td>  <td>0.6758</td>  <td>-11.7708</td> <td>0.0000</td> <td>-9.2795</td> <td>-6.6304</td>\n",
       "</tr>\n",
       "<tr>\n",
       "  <th>Pregnancies</th>              <td>0.1535</td>   <td>0.0278</td>   <td>5.5143</td>  <td>0.0000</td> <td>0.0989</td>  <td>0.2080</td> \n",
       "</tr>\n",
       "<tr>\n",
       "  <th>Glucose</th>                  <td>0.0347</td>   <td>0.0034</td>   <td>10.2130</td> <td>0.0000</td> <td>0.0280</td>  <td>0.0413</td> \n",
       "</tr>\n",
       "<tr>\n",
       "  <th>BloodPressure</th>            <td>-0.0120</td>  <td>0.0050</td>   <td>-2.3868</td> <td>0.0170</td> <td>-0.0219</td> <td>-0.0021</td>\n",
       "</tr>\n",
       "<tr>\n",
       "  <th>BMI</th>                      <td>0.0848</td>   <td>0.0141</td>   <td>6.0059</td>  <td>0.0000</td> <td>0.0571</td>  <td>0.1125</td> \n",
       "</tr>\n",
       "<tr>\n",
       "  <th>DiabetesPedigreeFunction</th> <td>0.9106</td>   <td>0.2940</td>   <td>3.0971</td>  <td>0.0020</td> <td>0.3343</td>  <td>1.4869</td> \n",
       "</tr>\n",
       "</table><br/>\n"
      ],
      "text/latex": [
       "\\begin{table}\n",
       "\\caption{Results: Logit}\n",
       "\\label{}\n",
       "\\begin{center}\n",
       "\\begin{tabular}{llll}\n",
       "\\hline\n",
       "Model:              & Logit            & Method:           & MLE         \\\\\n",
       "Dependent Variable: & diabetes         & Pseudo R-squared: & 0.267       \\\\\n",
       "Date:               & 2025-04-11 19:02 & AIC:              & 740.5596    \\\\\n",
       "No. Observations:   & 768              & BIC:              & 768.4223    \\\\\n",
       "Df Model:           & 5                & Log-Likelihood:   & -364.28     \\\\\n",
       "Df Residuals:       & 762              & LL-Null:          & -496.74     \\\\\n",
       "Converged:          & 1.0000           & LLR p-value:      & 3.4421e-55  \\\\\n",
       "No. Iterations:     & 6.0000           & Scale:            & 1.0000      \\\\\n",
       "\\hline\n",
       "\\end{tabular}\n",
       "\\end{center}\n",
       "\n",
       "\\begin{center}\n",
       "\\begin{tabular}{lrrrrrr}\n",
       "\\hline\n",
       "                         &   Coef. & Std.Err. &        z & P$> |$z$|$ &  [0.025 &  0.975]  \\\\\n",
       "\\hline\n",
       "const                    & -7.9550 &   0.6758 & -11.7708 &      0.0000 & -9.2795 & -6.6304  \\\\\n",
       "Pregnancies              &  0.1535 &   0.0278 &   5.5143 &      0.0000 &  0.0989 &  0.2080  \\\\\n",
       "Glucose                  &  0.0347 &   0.0034 &  10.2130 &      0.0000 &  0.0280 &  0.0413  \\\\\n",
       "BloodPressure            & -0.0120 &   0.0050 &  -2.3868 &      0.0170 & -0.0219 & -0.0021  \\\\\n",
       "BMI                      &  0.0848 &   0.0141 &   6.0059 &      0.0000 &  0.0571 &  0.1125  \\\\\n",
       "DiabetesPedigreeFunction &  0.9106 &   0.2940 &   3.0971 &      0.0020 &  0.3343 &  1.4869  \\\\\n",
       "\\hline\n",
       "\\end{tabular}\n",
       "\\end{center}\n",
       "\\end{table}\n",
       "\\bigskip\n"
      ],
      "text/plain": [
       "<class 'statsmodels.iolib.summary2.Summary'>\n",
       "\"\"\"\n",
       "                             Results: Logit\n",
       "=========================================================================\n",
       "Model:                  Logit              Method:             MLE       \n",
       "Dependent Variable:     diabetes           Pseudo R-squared:   0.267     \n",
       "Date:                   2025-04-11 19:02   AIC:                740.5596  \n",
       "No. Observations:       768                BIC:                768.4223  \n",
       "Df Model:               5                  Log-Likelihood:     -364.28   \n",
       "Df Residuals:           762                LL-Null:            -496.74   \n",
       "Converged:              1.0000             LLR p-value:        3.4421e-55\n",
       "No. Iterations:         6.0000             Scale:              1.0000    \n",
       "-------------------------------------------------------------------------\n",
       "                          Coef.  Std.Err.    z     P>|z|   [0.025  0.975]\n",
       "-------------------------------------------------------------------------\n",
       "const                    -7.9550   0.6758 -11.7708 0.0000 -9.2795 -6.6304\n",
       "Pregnancies               0.1535   0.0278   5.5143 0.0000  0.0989  0.2080\n",
       "Glucose                   0.0347   0.0034  10.2130 0.0000  0.0280  0.0413\n",
       "BloodPressure            -0.0120   0.0050  -2.3868 0.0170 -0.0219 -0.0021\n",
       "BMI                       0.0848   0.0141   6.0059 0.0000  0.0571  0.1125\n",
       "DiabetesPedigreeFunction  0.9106   0.2940   3.0971 0.0020  0.3343  1.4869\n",
       "=========================================================================\n",
       "\n",
       "\"\"\""
      ]
     },
     "execution_count": 116,
     "metadata": {},
     "output_type": "execute_result"
    }
   ],
   "source": [
    "#Final summary of the model (With only significant variables)\n",
    "final_logit.summary2()"
   ]
  },
  {
   "cell_type": "code",
   "execution_count": 117,
   "id": "8342a99c-05e0-4ab0-bfaa-e16af0225e31",
   "metadata": {},
   "outputs": [],
   "source": [
    "#Printing actual value vs predicted value for the significant variables from the final summary\n",
    "Y_pred=pd.DataFrame({'actual':Y,\n",
    "                     'predicted_prob':final_logit.predict(\n",
    "                         sm.add_constant(X[significant_vars]))})"
   ]
  },
  {
   "cell_type": "code",
   "execution_count": 118,
   "id": "e236aaa3-aa68-4f7e-aa03-5832e9e9d0e4",
   "metadata": {},
   "outputs": [
    {
     "data": {
      "text/html": [
       "<div>\n",
       "<style scoped>\n",
       "    .dataframe tbody tr th:only-of-type {\n",
       "        vertical-align: middle;\n",
       "    }\n",
       "\n",
       "    .dataframe tbody tr th {\n",
       "        vertical-align: top;\n",
       "    }\n",
       "\n",
       "    .dataframe thead th {\n",
       "        text-align: right;\n",
       "    }\n",
       "</style>\n",
       "<table border=\"1\" class=\"dataframe\">\n",
       "  <thead>\n",
       "    <tr style=\"text-align: right;\">\n",
       "      <th></th>\n",
       "      <th>actual</th>\n",
       "      <th>predicted_prob</th>\n",
       "    </tr>\n",
       "  </thead>\n",
       "  <tbody>\n",
       "    <tr>\n",
       "      <th>353</th>\n",
       "      <td>0</td>\n",
       "      <td>0.069714</td>\n",
       "    </tr>\n",
       "    <tr>\n",
       "      <th>236</th>\n",
       "      <td>1</td>\n",
       "      <td>0.876866</td>\n",
       "    </tr>\n",
       "    <tr>\n",
       "      <th>323</th>\n",
       "      <td>1</td>\n",
       "      <td>0.762600</td>\n",
       "    </tr>\n",
       "    <tr>\n",
       "      <th>98</th>\n",
       "      <td>0</td>\n",
       "      <td>0.160798</td>\n",
       "    </tr>\n",
       "    <tr>\n",
       "      <th>701</th>\n",
       "      <td>1</td>\n",
       "      <td>0.313795</td>\n",
       "    </tr>\n",
       "    <tr>\n",
       "      <th>61</th>\n",
       "      <td>1</td>\n",
       "      <td>0.513703</td>\n",
       "    </tr>\n",
       "    <tr>\n",
       "      <th>600</th>\n",
       "      <td>0</td>\n",
       "      <td>0.079305</td>\n",
       "    </tr>\n",
       "    <tr>\n",
       "      <th>242</th>\n",
       "      <td>1</td>\n",
       "      <td>0.312677</td>\n",
       "    </tr>\n",
       "    <tr>\n",
       "      <th>744</th>\n",
       "      <td>0</td>\n",
       "      <td>0.942662</td>\n",
       "    </tr>\n",
       "    <tr>\n",
       "      <th>644</th>\n",
       "      <td>0</td>\n",
       "      <td>0.143922</td>\n",
       "    </tr>\n",
       "  </tbody>\n",
       "</table>\n",
       "</div>"
      ],
      "text/plain": [
       "     actual  predicted_prob\n",
       "353       0        0.069714\n",
       "236       1        0.876866\n",
       "323       1        0.762600\n",
       "98        0        0.160798\n",
       "701       1        0.313795\n",
       "61        1        0.513703\n",
       "600       0        0.079305\n",
       "242       1        0.312677\n",
       "744       0        0.942662\n",
       "644       0        0.143922"
      ]
     },
     "execution_count": 118,
     "metadata": {},
     "output_type": "execute_result"
    }
   ],
   "source": [
    "# Sample 10 random predictions from the predicted values, ensuring the same random sample every time by setting random_state to 7\n",
    "Y_pred.sample(10,random_state=7)"
   ]
  },
  {
   "cell_type": "code",
   "execution_count": 119,
   "id": "e7ea0f1a-01e7-457d-9d46-3d3911a52e76",
   "metadata": {},
   "outputs": [
    {
     "data": {
      "text/html": [
       "<div>\n",
       "<style scoped>\n",
       "    .dataframe tbody tr th:only-of-type {\n",
       "        vertical-align: middle;\n",
       "    }\n",
       "\n",
       "    .dataframe tbody tr th {\n",
       "        vertical-align: top;\n",
       "    }\n",
       "\n",
       "    .dataframe thead th {\n",
       "        text-align: right;\n",
       "    }\n",
       "</style>\n",
       "<table border=\"1\" class=\"dataframe\">\n",
       "  <thead>\n",
       "    <tr style=\"text-align: right;\">\n",
       "      <th></th>\n",
       "      <th>actual</th>\n",
       "      <th>predicted_prob</th>\n",
       "      <th>predicted</th>\n",
       "    </tr>\n",
       "  </thead>\n",
       "  <tbody>\n",
       "    <tr>\n",
       "      <th>353</th>\n",
       "      <td>0</td>\n",
       "      <td>0.069714</td>\n",
       "      <td>0</td>\n",
       "    </tr>\n",
       "    <tr>\n",
       "      <th>236</th>\n",
       "      <td>1</td>\n",
       "      <td>0.876866</td>\n",
       "      <td>1</td>\n",
       "    </tr>\n",
       "    <tr>\n",
       "      <th>323</th>\n",
       "      <td>1</td>\n",
       "      <td>0.762600</td>\n",
       "      <td>1</td>\n",
       "    </tr>\n",
       "    <tr>\n",
       "      <th>98</th>\n",
       "      <td>0</td>\n",
       "      <td>0.160798</td>\n",
       "      <td>0</td>\n",
       "    </tr>\n",
       "    <tr>\n",
       "      <th>701</th>\n",
       "      <td>1</td>\n",
       "      <td>0.313795</td>\n",
       "      <td>0</td>\n",
       "    </tr>\n",
       "    <tr>\n",
       "      <th>61</th>\n",
       "      <td>1</td>\n",
       "      <td>0.513703</td>\n",
       "      <td>1</td>\n",
       "    </tr>\n",
       "    <tr>\n",
       "      <th>600</th>\n",
       "      <td>0</td>\n",
       "      <td>0.079305</td>\n",
       "      <td>0</td>\n",
       "    </tr>\n",
       "    <tr>\n",
       "      <th>242</th>\n",
       "      <td>1</td>\n",
       "      <td>0.312677</td>\n",
       "      <td>0</td>\n",
       "    </tr>\n",
       "    <tr>\n",
       "      <th>744</th>\n",
       "      <td>0</td>\n",
       "      <td>0.942662</td>\n",
       "      <td>1</td>\n",
       "    </tr>\n",
       "    <tr>\n",
       "      <th>644</th>\n",
       "      <td>0</td>\n",
       "      <td>0.143922</td>\n",
       "      <td>0</td>\n",
       "    </tr>\n",
       "  </tbody>\n",
       "</table>\n",
       "</div>"
      ],
      "text/plain": [
       "     actual  predicted_prob  predicted\n",
       "353       0        0.069714          0\n",
       "236       1        0.876866          1\n",
       "323       1        0.762600          1\n",
       "98        0        0.160798          0\n",
       "701       1        0.313795          0\n",
       "61        1        0.513703          1\n",
       "600       0        0.079305          0\n",
       "242       1        0.312677          0\n",
       "744       0        0.942662          1\n",
       "644       0        0.143922          0"
      ]
     },
     "execution_count": 119,
     "metadata": {},
     "output_type": "execute_result"
    }
   ],
   "source": [
    "# Create a new column 'predicted' in Y_pred DataFrame by converting predicted probabilities to binary outcomes\n",
    "# If the predicted probability is greater than 0.5, assign 1 (positive class), otherwise assign 0 (negative class)\n",
    "Y_pred['predicted']=Y_pred.predicted_prob.map(\n",
    "    lambda x:1 if x>0.5 else 0)\n",
    "Y_pred.sample(10, random_state=7)"
   ]
  },
  {
   "cell_type": "code",
   "execution_count": 138,
   "id": "2673df93-c9dd-467c-9a4c-d7e31d23b435",
   "metadata": {},
   "outputs": [],
   "source": [
    "# Define a function to draw the confusion matrix\n",
    "def draw_cm(actual, predicted):\n",
    "     # Generate the confusion matrix using actual and predicted labels\n",
    "    cm= metrics.confusion_matrix(actual,predicted, labels=[0,1])\n",
    "    # Use seaborn's heatmap to visualize the confusion matrix\n",
    "    sn.heatmap(cm,annot=True,fmt='.2f',\n",
    "               xticklabels=['Negative','Positive'],\n",
    "               yticklabels=['Negative','Positive'])\n",
    "     # Set the labels for the axes\n",
    "    plt.ylabel('True lable')\n",
    "    plt.xlabel('predicted label')\n",
    "      # Display the plot\n",
    "    plt.show()"
   ]
  },
  {
   "cell_type": "code",
   "execution_count": 139,
   "id": "0098d58c-daab-4182-898e-de88740d2127",
   "metadata": {},
   "outputs": [
    {
     "data": {
      "image/png": "[encoded data removed]",
      "text/plain": [
       "<Figure size 640x480 with 2 Axes>"
      ]
     },
     "metadata": {},
     "output_type": "display_data"
    },
    {
     "data": {
      "text/plain": [
       "'\\nInterpretation \\nTrue Positive (Top-Left): 436 instances were correctly predicted as \"Not Subscribed.\"\\nFalse Positive (Top-Right): 64 instances were incorrectly predicted as \"Subscribed\" when they were actually \"Not Subscribed.\"\\nFalse Negative (Bottom-Left): 113 instances were incorrectly predicted as \"Not Subscribed\" when they were actually \"Subscribed.\"\\nTrue Negative (Bottom-Right): 155 instances were correctly predicted as \"Subscribed.\"\\n'"
      ]
     },
     "execution_count": 139,
     "metadata": {},
     "output_type": "execute_result"
    }
   ],
   "source": [
    "# Call the draw_cm function to visualize the confusion matrix using the 'actual' and 'predicted' columns from the Y_pred DataFrame\n",
    "draw_cm(Y_pred['actual'],Y_pred['predicted'])\n",
    "\n",
    "\"\"\"\n",
    "Interpretation \n",
    "True Positive (Top-Left): 436 instances were correctly predicted as \"negative.\"\n",
    "False Positive (Top-Right): 64 instances were incorrectly predicted as \"positive\" when they were actually \"negative.\"\n",
    "False Negative (Bottom-Left): 113 instances were incorrectly predicted as \"Negative\" when they were actually \"positive\"\n",
    "True Negative (Bottom-Right): 155 instances were correctly predicted as \"positive\"\n",
    "\"\"\""
   ]
  },
  {
   "cell_type": "code",
   "execution_count": 122,
   "id": "e4fc3c12-d4f1-45c5-a706-d1faafd4971f",
   "metadata": {},
   "outputs": [
    {
     "name": "stdout",
     "output_type": "stream",
     "text": [
      "              precision    recall  f1-score   support\n",
      "\n",
      "           0       0.79      0.88      0.84       500\n",
      "           1       0.72      0.57      0.64       268\n",
      "\n",
      "    accuracy                           0.77       768\n",
      "   macro avg       0.76      0.73      0.74       768\n",
      "weighted avg       0.77      0.77      0.77       768\n",
      "\n"
     ]
    }
   ],
   "source": [
    "# Print the classification report using actual and predicted labels from the Y_pred DataFrame\n",
    "print(metrics.classification_report(Y_pred.actual, Y_pred.predicted))"
   ]
  },
  {
   "cell_type": "code",
   "execution_count": 123,
   "id": "c9f14de6-9cbe-41bc-aee9-ebdcb8206eac",
   "metadata": {},
   "outputs": [
    {
     "data": {
      "image/png": "[encoded data removed]",
      "text/plain": [
       "<Figure size 800x600 with 1 Axes>"
      ]
     },
     "metadata": {},
     "output_type": "display_data"
    }
   ],
   "source": [
    "import matplotlib.pyplot as plt\n",
    "import seaborn as sns\n",
    "\n",
    "#Set figure size\n",
    "plt.figure(figsize=(8, 6))\n",
    "\n",
    "#Plot distribution of predicted probabilities for Bad Credit\n",
    "sns.histplot(Y_pred[Y_pred.actual == 1][\"predicted_prob\"], bins=20, color=\"b\", label=\"Bad Credit\", alpha=0.6)\n",
    "\n",
    "#Plot distribution of predicted probabilities for Good Credit\n",
    "sns.histplot(Y_pred[Y_pred.actual == 0][\"predicted_prob\"], bins=20, color=\"g\", label=\"Good Credit\", alpha=0.6)\n",
    "\n",
    "# Adding Legend plt.legend()\n",
    "\n",
    "#Adding labels and title\n",
    "plt.xlabel(\"Predicted Probability\")\n",
    "plt.ylabel(\"Frequency\")\n",
    "plt.title(\"Distribution of Predicted Probabilities\")\n",
    "\n",
    "# Display plot\n",
    "plt.show()"
   ]
  },
  {
   "cell_type": "markdown",
   "id": "57b72713-ffbb-4ef5-93ec-ae1d22923622",
   "metadata": {},
   "source": [
    "### (ROC)Reciver operator curve (AUC)Area under the curve"
   ]
  },
  {
   "cell_type": "code",
   "execution_count": 124,
   "id": "77a3bcbc-1257-45be-b125-0fd591b14ab1",
   "metadata": {},
   "outputs": [],
   "source": [
    "import matplotlib.pyplot as plt\n",
    "from sklearn import metrics"
   ]
  },
  {
   "cell_type": "code",
   "execution_count": 125,
   "id": "476c170a-74c1-4f37-bf52-ed732b934f70",
   "metadata": {},
   "outputs": [],
   "source": [
    "def draw_roc(actual, predicted_prob):\n",
    "    # Obtain fpr, tpr, thresholds\n",
    "    fpr, tpr, thresholds = metrics.roc_curve(actual, predicted_prob, drop_intermediate=False)\n",
    "    auc_score = metrics.roc_auc_score(actual, predicted_prob)\n",
    "    \n",
    "    # Plot the ROC curve\n",
    "    plt.figure(figsize=(8, 6))\n",
    "    plt.plot(fpr, tpr, label=\"ROC curve (area = %0.2f)\" % auc_score)\n",
    "    \n",
    "    # Draw a diagonal line (random classifier line)\n",
    "    plt.plot([0, 1], [0, 1], \"k--\")\n",
    "    \n",
    "    # Set axis limits\n",
    "    plt.xlim([0.0, 1.0])\n",
    "    plt.ylim([0.0, 1.05])\n",
    "    \n",
    "    # Add labels and legend\n",
    "    plt.xlabel(\"False Positive Rate (1 - Specificity)\")\n",
    "    plt.ylabel(\"True Positive Rate (Sensitivity)\")\n",
    "    plt.legend(loc=\"lower right\")\n",
    "    \n",
    "    # Show the plot\n",
    "    plt.show()\n",
    "    \n",
    "    # Return fpr, tpr, thresholds\n",
    "    return fpr, tpr, thresholds\n"
   ]
  },
  {
   "cell_type": "code",
   "execution_count": 126,
   "id": "863d99bf-76fe-407d-8042-11b92a178d55",
   "metadata": {},
   "outputs": [
    {
     "data": {
      "image/png": "[encoded data removed]",
      "text/plain": [
       "<Figure size 800x600 with 1 Axes>"
      ]
     },
     "metadata": {},
     "output_type": "display_data"
    }
   ],
   "source": [
    "fpr, tpr, thresholds = draw_roc(Y_pred.actual, Y_pred.predicted_prob)"
   ]
  },
  {
   "cell_type": "code",
   "execution_count": 127,
   "id": "3657dd62-5b52-4de1-acef-d54a8eccfd7f",
   "metadata": {},
   "outputs": [
    {
     "data": {
      "text/plain": [
       "0.84"
      ]
     },
     "execution_count": 127,
     "metadata": {},
     "output_type": "execute_result"
    }
   ],
   "source": [
    "auc_score = metrics.roc_auc_score(Y_pred.actual, Y_pred.predicted_prob)\n",
    "round(float(auc_score),2)"
   ]
  },
  {
   "cell_type": "markdown",
   "id": "e08d46dc-998d-472c-ae1e-dcdf7cfc86ac",
   "metadata": {},
   "source": [
    "### Youndens index:"
   ]
  },
  {
   "cell_type": "code",
   "execution_count": 128,
   "id": "18e562a6-60ab-4ba5-90e0-1f9ce4cfb6cb",
   "metadata": {},
   "outputs": [
    {
     "data": {
      "text/html": [
       "<div>\n",
       "<style scoped>\n",
       "    .dataframe tbody tr th:only-of-type {\n",
       "        vertical-align: middle;\n",
       "    }\n",
       "\n",
       "    .dataframe tbody tr th {\n",
       "        vertical-align: top;\n",
       "    }\n",
       "\n",
       "    .dataframe thead th {\n",
       "        text-align: right;\n",
       "    }\n",
       "</style>\n",
       "<table border=\"1\" class=\"dataframe\">\n",
       "  <thead>\n",
       "    <tr style=\"text-align: right;\">\n",
       "      <th></th>\n",
       "      <th>tpr</th>\n",
       "      <th>fpr</th>\n",
       "      <th>thresholds</th>\n",
       "      <th>diff</th>\n",
       "    </tr>\n",
       "  </thead>\n",
       "  <tbody>\n",
       "    <tr>\n",
       "      <th>335</th>\n",
       "      <td>0.794776</td>\n",
       "      <td>0.244</td>\n",
       "      <td>0.319596</td>\n",
       "      <td>0.550776</td>\n",
       "    </tr>\n",
       "    <tr>\n",
       "      <th>341</th>\n",
       "      <td>0.802239</td>\n",
       "      <td>0.252</td>\n",
       "      <td>0.312677</td>\n",
       "      <td>0.550239</td>\n",
       "    </tr>\n",
       "    <tr>\n",
       "      <th>324</th>\n",
       "      <td>0.779851</td>\n",
       "      <td>0.230</td>\n",
       "      <td>0.328583</td>\n",
       "      <td>0.549851</td>\n",
       "    </tr>\n",
       "    <tr>\n",
       "      <th>333</th>\n",
       "      <td>0.791045</td>\n",
       "      <td>0.242</td>\n",
       "      <td>0.321644</td>\n",
       "      <td>0.549045</td>\n",
       "    </tr>\n",
       "    <tr>\n",
       "      <th>336</th>\n",
       "      <td>0.794776</td>\n",
       "      <td>0.246</td>\n",
       "      <td>0.318831</td>\n",
       "      <td>0.548776</td>\n",
       "    </tr>\n",
       "  </tbody>\n",
       "</table>\n",
       "</div>"
      ],
      "text/plain": [
       "          tpr    fpr  thresholds      diff\n",
       "335  0.794776  0.244    0.319596  0.550776\n",
       "341  0.802239  0.252    0.312677  0.550239\n",
       "324  0.779851  0.230    0.328583  0.549851\n",
       "333  0.791045  0.242    0.321644  0.549045\n",
       "336  0.794776  0.246    0.318831  0.548776"
      ]
     },
     "execution_count": 128,
     "metadata": {},
     "output_type": "execute_result"
    }
   ],
   "source": [
    "tpr_fpr=pd.DataFrame({\"tpr\":tpr,\"fpr\":fpr,\"thresholds\":thresholds})\n",
    "tpr_fpr[\"diff\"]=tpr_fpr.tpr - tpr_fpr.fpr\n",
    "tpr_fpr.sort_values(\"diff\",ascending=False)[0:5]"
   ]
  },
  {
   "cell_type": "code",
   "execution_count": 129,
   "id": "9bddf6b3-e59d-499d-bec4-83b48692f193",
   "metadata": {},
   "outputs": [
    {
     "data": {
      "image/png": "[encoded data removed]",
      "text/plain": [
       "<Figure size 640x480 with 2 Axes>"
      ]
     },
     "metadata": {},
     "output_type": "display_data"
    }
   ],
   "source": [
    "Y_pred[\"predicted_new\"] = Y_pred.predicted_prob.map(lambda x: 1 if x>0.22 else 0)\n",
    "draw_cm(Y_pred.actual, Y_pred.predicted_new)"
   ]
  },
  {
   "cell_type": "code",
   "execution_count": 130,
   "id": "41d4b5cc-6ad3-4d2f-b820-3c87a154d1af",
   "metadata": {},
   "outputs": [
    {
     "name": "stdout",
     "output_type": "stream",
     "text": [
      "              precision    recall  f1-score   support\n",
      "\n",
      "           0       0.89      0.59      0.71       500\n",
      "           1       0.53      0.87      0.66       268\n",
      "\n",
      "    accuracy                           0.69       768\n",
      "   macro avg       0.71      0.73      0.69       768\n",
      "weighted avg       0.77      0.69      0.69       768\n",
      "\n"
     ]
    }
   ],
   "source": [
    "print(metrics.classification_report(Y_pred.actual, Y_pred.predicted_new))"
   ]
  },
  {
   "cell_type": "code",
   "execution_count": null,
   "id": "514084f2-0e10-4712-9890-db9abede3a95",
   "metadata": {},
   "outputs": [],
   "source": []
  }
 ],
 "metadata": {
  "kernelspec": {
   "display_name": "Python 3 (ipykernel)",
   "language": "python",
   "name": "python3"
  },
  "language_info": {
   "codemirror_mode": {
    "name": "ipython",
    "version": 3
   },
   "file_extension": ".py",
   "mimetype": "text/x-python",
   "name": "python",
   "nbconvert_exporter": "python",
   "pygments_lexer": "ipython3",
   "version": "3.10.16"
  }
 },
 "nbformat": 4,
 "nbformat_minor": 5
}
